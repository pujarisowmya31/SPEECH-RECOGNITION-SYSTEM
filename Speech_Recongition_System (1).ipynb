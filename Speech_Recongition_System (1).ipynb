{
 "cells": [
  {
   "cell_type": "markdown",
   "id": "eb202e6a",
   "metadata": {},
   "source": [
    "# Task 2: Speech-to-Text System\n",
    "This notebook demonstrates how to convert speech from an audio file into text using the SpeechRecognition library and Google Web Speech API."
   ]
  },
  {
   "cell_type": "code",
   "execution_count": 1,
   "id": "fd53b33d",
   "metadata": {},
   "outputs": [
    {
     "name": "stdout",
     "output_type": "stream",
     "text": [
      "Requirement already satisfied: SpeechRecognition in /opt/anaconda3/lib/python3.12/site-packages (3.14.2)\n",
      "Requirement already satisfied: pydub in /opt/anaconda3/lib/python3.12/site-packages (0.25.1)\n",
      "Requirement already satisfied: typing-extensions in /opt/anaconda3/lib/python3.12/site-packages (from SpeechRecognition) (4.12.2)\n"
     ]
    }
   ],
   "source": [
    "!pip install SpeechRecognition pydub"
   ]
  },
  {
   "cell_type": "code",
   "execution_count": 3,
   "id": "923e04a9",
   "metadata": {},
   "outputs": [
    {
     "name": "stderr",
     "output_type": "stream",
     "text": [
      "/opt/anaconda3/lib/python3.12/site-packages/pydub/utils.py:170: RuntimeWarning: Couldn't find ffmpeg or avconv - defaulting to ffmpeg, but may not work\n",
      "  warn(\"Couldn't find ffmpeg or avconv - defaulting to ffmpeg, but may not work\", RuntimeWarning)\n"
     ]
    }
   ],
   "source": [
    "import speech_recognition as sr\n",
    "from pydub import AudioSegment"
   ]
  },
  {
   "cell_type": "markdown",
   "id": "8fc99611",
   "metadata": {},
   "source": [
    "### Optional: Convert MP3 to WAV"
   ]
  },
  {
   "cell_type": "code",
   "execution_count": 5,
   "id": "f2721ac1",
   "metadata": {},
   "outputs": [],
   "source": [
    "def convert_mp3_to_wav(mp3_path, wav_path):\n",
    "    sound = AudioSegment.from_mp3(mp3_path)\n",
    "    sound.export(wav_path, format=\"wav\")\n",
    "    print(f\"Converted {mp3_path} to {wav_path}\")\n",
    "\n",
    "# Example:\n",
    "# convert_mp3_to_wav(\"sample.mp3\", \"sample.wav\")"
   ]
  },
  {
   "cell_type": "markdown",
   "id": "48a473a2",
   "metadata": {},
   "source": [
    "### Transcribe Audio"
   ]
  },
  {
   "cell_type": "code",
   "execution_count": 7,
   "id": "247a2a82",
   "metadata": {},
   "outputs": [],
   "source": [
    "def transcribe_audio(file_path):\n",
    "    recognizer = sr.Recognizer()\n",
    "    try:\n",
    "        with sr.AudioFile(file_path) as source:\n",
    "            print(\"Listening to audio...\")\n",
    "            audio = recognizer.record(source)\n",
    "        print(\"Transcribing...\")\n",
    "        text = recognizer.recognize_google(audio)\n",
    "        print(\"\\n🎧 Transcription Result:\\n\")\n",
    "        print(text)\n",
    "    except FileNotFoundError:\n",
    "        print(\"❌ File not found. Please check the path and try again.\")\n",
    "    except sr.UnknownValueError:\n",
    "        print(\"😕 Could not understand the audio.\")\n",
    "    except sr.RequestError as e:\n",
    "        print(f\"🚫 Could not request results from Google Speech Recognition service; {e}\")"
   ]
  },
  {
   "cell_type": "code",
   "execution_count": 9,
   "id": "ccc78582",
   "metadata": {},
   "outputs": [
    {
     "name": "stdin",
     "output_type": "stream",
     "text": [
      "Enter path to your audio file (e.g., sample.wav):  /Users/sowmyapujari31/Downloads/file_example_WAV_1MG.wav\n"
     ]
    },
    {
     "name": "stdout",
     "output_type": "stream",
     "text": [
      "Listening to audio...\n",
      "Transcribing...\n",
      "😕 Could not understand the audio.\n"
     ]
    }
   ],
   "source": [
    "# Run this cell to start transcription\n",
    "file_path = input(\"Enter path to your audio file (e.g., sample.wav): \")\n",
    "transcribe_audio(file_path)"
   ]
  },
  {
   "cell_type": "code",
   "execution_count": null,
   "id": "e9374747-7230-4a2d-ace6-ac4e4adc8302",
   "metadata": {},
   "outputs": [],
   "source": []
  }
 ],
 "metadata": {
  "kernelspec": {
   "display_name": "Python 3 (ipykernel)",
   "language": "python",
   "name": "python3"
  },
  "language_info": {
   "codemirror_mode": {
    "name": "ipython",
    "version": 3
   },
   "file_extension": ".py",
   "mimetype": "text/x-python",
   "name": "python",
   "nbconvert_exporter": "python",
   "pygments_lexer": "ipython3",
   "version": "3.12.4"
  }
 },
 "nbformat": 4,
 "nbformat_minor": 5
}
